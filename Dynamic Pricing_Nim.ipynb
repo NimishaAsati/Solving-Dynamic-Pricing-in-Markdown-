{
 "cells": [
  {
   "cell_type": "code",
   "execution_count": 1,
   "metadata": {},
   "outputs": [],
   "source": [
    "from scipy.optimize import minimize"
   ]
  },
  {
   "cell_type": "code",
   "execution_count": 2,
   "metadata": {},
   "outputs": [],
   "source": [
    "def objective(p):\n",
    "    p1=p[0]\n",
    "    p2=p[1]\n",
    "    p3=p[2]\n",
    "    return -1*(p1*(1000-100*p1)+p2*(800-100*p2)+p3*(700-100*p3))\n",
    "\n",
    "def constraint(p):\n",
    "    p1=p[0]\n",
    "    p2=p[1]\n",
    "    p3=p[2]\n",
    "    return -1*(1000-100*p1+800-100*p2+700-100*p3-700)"
   ]
  },
  {
   "cell_type": "code",
   "execution_count": 3,
   "metadata": {},
   "outputs": [],
   "source": [
    "b1=(0,10)\n",
    "b2=(0,8)\n",
    "b3=(0,7)\n",
    "bnds=(b1,b2,b3)\n",
    "\n",
    "p0=[1,1,1]"
   ]
  },
  {
   "cell_type": "code",
   "execution_count": 4,
   "metadata": {},
   "outputs": [],
   "source": [
    "con1 = {'type': 'ineq', 'fun': constraint}\n",
    "cons=[con1]\n",
    "sol = minimize(objective,p0,method='SLSQP',bounds=bnds,constraints=cons)"
   ]
  },
  {
   "cell_type": "code",
   "execution_count": 5,
   "metadata": {},
   "outputs": [
    {
     "name": "stdout",
     "output_type": "stream",
     "text": [
      "[6.83333323 5.83333342 5.33333335]\n"
     ]
    }
   ],
   "source": [
    "p=sol.x\n",
    "print(p)"
   ]
  },
  {
   "cell_type": "markdown",
   "metadata": {},
   "source": [
    "optimum prices by week = [6.83333323 5.83333342 5.33333335]"
   ]
  },
  {
   "cell_type": "code",
   "execution_count": 7,
   "metadata": {},
   "outputs": [],
   "source": [
    "p1=6.83\n",
    "p2=5.83\n",
    "p3=5.3\n",
    "\n",
    "rev=(p1*(1000-100*p1)+p2*(800-100*p2)+p3*(700-100*p3))"
   ]
  },
  {
   "cell_type": "code",
   "execution_count": 8,
   "metadata": {},
   "outputs": [
    {
     "data": {
      "text/plain": [
       "4331.22"
      ]
     },
     "execution_count": 8,
     "metadata": {},
     "output_type": "execute_result"
    }
   ],
   "source": [
    "rev"
   ]
  },
  {
   "cell_type": "markdown",
   "metadata": {},
   "source": [
    "corresponding revenue = 4331.22"
   ]
  },
  {
   "cell_type": "code",
   "execution_count": null,
   "metadata": {},
   "outputs": [],
   "source": []
  }
 ],
 "metadata": {
  "kernelspec": {
   "display_name": "Python 3",
   "language": "python",
   "name": "python3"
  },
  "language_info": {
   "codemirror_mode": {
    "name": "ipython",
    "version": 3
   },
   "file_extension": ".py",
   "mimetype": "text/x-python",
   "name": "python",
   "nbconvert_exporter": "python",
   "pygments_lexer": "ipython3",
   "version": "3.7.3"
  }
 },
 "nbformat": 4,
 "nbformat_minor": 2
}
